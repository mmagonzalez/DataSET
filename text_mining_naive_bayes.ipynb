{
 "cells": [
  {
   "cell_type": "code",
   "execution_count": null,
   "id": "37fbaf56",
   "metadata": {},
   "outputs": [],
   "source": [
    "\n",
    "import os\n",
    "import tarfile\n",
    "import requests\n",
    "from sklearn.datasets import load_files\n",
    "from sklearn.feature_extraction.text import CountVectorizer, TfidfTransformer\n",
    "from sklearn.model_selection import train_test_split\n",
    "from sklearn.naive_bayes import MultinomialNB\n",
    "from sklearn.pipeline import Pipeline\n",
    "from sklearn import metrics\n",
    "import nltk\n",
    "nltk.download('stopwords')\n",
    "from nltk.corpus import stopwords\n"
   ]
  },
  {
   "cell_type": "code",
   "execution_count": null,
   "id": "d7a8c2cf",
   "metadata": {},
   "outputs": [],
   "source": [
    "\n",
    "# URL del dataset IMDB\n",
    "url = 'http://ai.stanford.edu/~amaas/data/sentiment/aclImdb_v1.tar.gz'\n",
    "dataset_path = 'aclImdb_v1.tar.gz'\n",
    "extract_path = 'aclImdb'\n",
    "\n",
    "# Descargar el archivo\n",
    "response = requests.get(url, stream=True)\n",
    "with open(dataset_path, 'wb') as file:\n",
    "    file.write(response.raw.read())\n",
    "\n",
    "# Descomprimir el archivo\n",
    "with tarfile.open(dataset_path, 'r:gz') as tar:\n",
    "    tar.extractall(path=extract_path)\n"
   ]
  },
  {
   "cell_type": "code",
   "execution_count": null,
   "id": "eb9e048a",
   "metadata": {},
   "outputs": [],
   "source": [
    "\n",
    "# Cargar los datos de entrenamiento y prueba desde las carpetas\n",
    "data_folder_train = os.path.join(extract_path, 'aclImdb', 'train')\n",
    "data_folder_test = os.path.join(extract_path, 'aclImdb', 'test')\n",
    "\n",
    "train_data = load_files(data_folder_train, categories=['pos', 'neg'])\n",
    "test_data = load_files(data_folder_test, categories=['pos', 'neg'])\n",
    "\n",
    "# Extraer las características y etiquetas\n",
    "X_train, y_train = train_data.data, train_data.target\n",
    "X_test, y_test = test_data.data, test_data.target\n"
   ]
  },
  {
   "cell_type": "code",
   "execution_count": null,
   "id": "27ce029a",
   "metadata": {},
   "outputs": [],
   "source": [
    "\n",
    "# Construir un pipeline que incluye la vectorización, transformación TF-IDF y el clasificador Naive Bayes\n",
    "text_clf = Pipeline([\n",
    "    ('vect', CountVectorizer(stop_words=stopwords.words('english'))),  # Convertir texto en una matriz de términos\n",
    "    ('tfidf', TfidfTransformer()),  # Convertir recuentos en frecuencias tf-idf\n",
    "    ('clf', MultinomialNB()),  # Clasificador Naive Bayes\n",
    "])\n",
    "\n",
    "# Entrenar el modelo con los datos de entrenamiento\n",
    "text_clf.fit(X_train, y_train)\n"
   ]
  },
  {
   "cell_type": "code",
   "execution_count": null,
   "id": "27b12f29",
   "metadata": {},
   "outputs": [],
   "source": [
    "\n",
    "# Hacer predicciones en el conjunto de prueba\n",
    "y_pred = text_clf.predict(X_test)\n",
    "\n",
    "# Evaluar la precisión del modelo\n",
    "accuracy = metrics.accuracy_score(y_test, y_pred)\n",
    "print(f'Test accuracy: {accuracy:.2f}')\n",
    "\n",
    "# Mostrar un reporte de clasificación más detallado\n",
    "print(metrics.classification_report(y_test, y_pred, target_names=train_data.target_names))\n",
    "\n",
    "# Mostrar la matriz de confusión\n",
    "print(metrics.confusion_matrix(y_test, y_pred))\n"
   ]
  },
  {
   "cell_type": "code",
   "execution_count": null,
   "id": "f8f59410",
   "metadata": {},
   "outputs": [],
   "source": [
    "\n",
    "# Ejemplo de cómo hacer predicciones con el modelo entrenado\n",
    "sample_reviews = [\n",
    "    \"This movie was fantastic!\",\n",
    "    \"Terrible movie.\"\n",
    "]\n",
    "\n",
    "predicted = text_clf.predict(sample_reviews)\n",
    "\n",
    "for review, category in zip(sample_reviews, predicted):\n",
    "    print(f'Review: {review}\\nPredicted Sentiment: {\"positive\" if category == 1 else \"negative\"}\\n')\n"
   ]
  }
 ],
 "metadata": {},
 "nbformat": 4,
 "nbformat_minor": 5
}
