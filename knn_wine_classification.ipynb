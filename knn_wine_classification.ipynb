{
 "cells": [
  {
   "cell_type": "code",
   "execution_count": null,
   "id": "20deca2e",
   "metadata": {},
   "outputs": [],
   "source": [
    "\n",
    "import numpy as np\n",
    "import pandas as pd\n",
    "from sklearn.datasets import load_wine\n",
    "from sklearn.model_selection import train_test_split\n",
    "from sklearn.preprocessing import StandardScaler\n",
    "from sklearn.neighbors import KNeighborsClassifier\n",
    "from sklearn.pipeline import Pipeline\n",
    "from sklearn import metrics\n"
   ]
  },
  {
   "cell_type": "code",
   "execution_count": null,
   "id": "72ece109",
   "metadata": {},
   "outputs": [],
   "source": [
    "\n",
    "wine = load_wine()\n",
    "\n",
    "# Extraer las características y las etiquetas\n",
    "X = wine.data\n",
    "y = wine.target\n"
   ]
  },
  {
   "cell_type": "code",
   "execution_count": null,
   "id": "d7684558",
   "metadata": {},
   "outputs": [],
   "source": [
    "\n",
    "X_train, X_test, y_train, y_test = train_test_split(X, y, test_size=0.3, random_state=42)\n"
   ]
  },
  {
   "cell_type": "code",
   "execution_count": null,
   "id": "d97eb812",
   "metadata": {},
   "outputs": [],
   "source": [
    "\n",
    "# Crear el pipeline que incluye la normalización y el clasificador KNN\n",
    "pipeline = Pipeline([\n",
    "    ('scaler', StandardScaler()),  # Normalización de datos\n",
    "    ('knn', KNeighborsClassifier(n_neighbors=5))  # Clasificador KNN con k=5\n",
    "])\n",
    "\n",
    "# Entrenar el modelo con los datos de entrenamiento\n",
    "pipeline.fit(X_train, y_train)\n"
   ]
  },
  {
   "cell_type": "code",
   "execution_count": null,
   "id": "35681382",
   "metadata": {},
   "outputs": [],
   "source": [
    "\n",
    "# Hacer predicciones en el conjunto de prueba\n",
    "y_pred = pipeline.predict(X_test)\n",
    "\n",
    "# Evaluar la precisión del modelo\n",
    "accuracy = metrics.accuracy_score(y_test, y_pred)\n",
    "print(f'Test accuracy: {accuracy:.2f}')\n",
    "\n",
    "# Mostrar un reporte de clasificación más detallado\n",
    "print(metrics.classification_report(y_test, y_pred, target_names=wine.target_names))\n",
    "\n",
    "# Mostrar la matriz de confusión\n",
    "print(metrics.confusion_matrix(y_test, y_pred))\n"
   ]
  },
  {
   "cell_type": "code",
   "execution_count": null,
   "id": "8cdd4c6c",
   "metadata": {},
   "outputs": [],
   "source": [
    "\n",
    "from sklearn.model_selection import GridSearchCV\n",
    "\n",
    "# Definir el rango de valores para k\n",
    "param_grid = {'knn__n_neighbors': range(1, 21)}\n",
    "\n",
    "# Crear el objeto GridSearchCV\n",
    "grid_search = GridSearchCV(pipeline, param_grid, cv=5, scoring='accuracy')\n",
    "\n",
    "# Ajustar el modelo con los datos de entrenamiento\n",
    "grid_search.fit(X_train, y_train)\n",
    "\n",
    "# Imprimir el mejor valor de k y el mejor puntaje\n",
    "print(f'Best k: {grid_search.best_params_[\"knn__n_neighbors\"]}')\n",
    "print(f'Best accuracy: {grid_search.best_score_:.2f}')\n"
   ]
  }
 ],
 "metadata": {},
 "nbformat": 4,
 "nbformat_minor": 5
}
